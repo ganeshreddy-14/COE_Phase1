{
 "cells": [
  {
   "cell_type": "code",
   "execution_count": 10,
   "id": "f84b3cd5",
   "metadata": {},
   "outputs": [
    {
     "name": "stdout",
     "output_type": "stream",
     "text": [
      "Enter score of internal:80\n",
      "Enter score of external :60\n",
      "Enter score of project :76\n",
      "73.19999999999999\n",
      "B grade\n"
     ]
    }
   ],
   "source": [
    "internal=int(input(\"Enter score of internal:\"))\n",
    "external=int(input(\"Enter score of external :\"))\n",
    "project=int(input(\"Enter score of project :\"))\n",
    "\n",
    "if internal>50 and external>50 and project>50:\n",
    "    total_score=0.7*project+0.2*external+0.1*internal\n",
    "    print(total_score)\n",
    "    if total_score>=90:\n",
    "        print(\"A grade\")\n",
    "    elif total_score>69:\n",
    "\n",
    "        print(\"B grade\")\n",
    "    elif total_score>49:\n",
    "        \n",
    "    \n",
    "        print(\"C grade\")\n",
    "    elif total_score<50:\n",
    "        print(\"Fail\")\n",
    "else :\n",
    "    \n",
    "    if internal<50:\n",
    "        print(\"fail in internal\")\n",
    "    elif internal<50 and external <50:\n",
    "        print(\"fail in internal and external\")\n",
    "    elif internal<50 and external<50 and project<50:\n",
    "        print(\"fail in all\")\n",
    "    elif external<50:\n",
    "        print(\"fail in external\")\n",
    "    elif project <50:\n",
    "        print(\"fail in project\")\n"
   ]
  },
  {
   "cell_type": "code",
   "execution_count": 9,
   "id": "3906fb7f",
   "metadata": {},
   "outputs": [
    {
     "name": "stdout",
     "output_type": "stream",
     "text": [
      "Enter the previous bill :600\n",
      "Enter present bill :300\n",
      "bill is: 413.0\n"
     ]
    }
   ],
   "source": [
    "prev =int(input(\"Enter the previous bill :\"))\n",
    "pres=int(input(\"Enter present bill :\"))\n",
    "units=prev-pres\n",
    "bill=0\n",
    "if units<50:\n",
    "    bill=units*0.5\n",
    "elif units<=150:\n",
    "    bill=50*0.5+(units-50)*0.75\n",
    "elif units<=250:\n",
    "    bill=50*0.5+100*0.75+(units-150)*1.25\n",
    "else :\n",
    "    bill=50*0.50+(100*0.75)+(100*1.25)+(units-250)*2.50\n",
    " \n",
    " \n",
    "bill=bill+(bill*18)/100\n",
    "print(\"bill is:\", bill)\n",
    "    "
   ]
  },
  {
   "cell_type": "code",
   "execution_count": null,
   "id": "366bb44c",
   "metadata": {},
   "outputs": [],
   "source": [
    "1. Food – Smart Restaurant Billing with Meal Plans\n",
    "Scenario:\n",
    "A restaurant offers multiple meal plans (Veg, Non-Veg, Combo) and discounts on festivals.\n",
    " \n",
    "Requirements:\n",
    " \n",
    "Take user input: meal type, quantity, is today a festival (yes/no)\n",
    " \n",
    "Pricing:\n",
    " \n",
    "Veg: ₹150\n",
    " \n",
    "Non-Veg: ₹200\n",
    " \n",
    "Combo: ₹300\n",
    " \n",
    "Festival day → 10% discount\n",
    " \n",
    "If total bill > ₹1000 → add free dessert\n",
    " \n",
    "Add 5% GST on total"
   ]
  },
  {
   "cell_type": "code",
   "execution_count": 3,
   "id": "17b89b94",
   "metadata": {},
   "outputs": [
    {
     "name": "stdout",
     "output_type": "stream",
     "text": [
      "Enter food type : veg\n",
      "Is it a festival (yes / no): no\n",
      "Enter quantity: 7\n",
      "1102.5\n",
      "Congratulations sir you got free dessert\n"
     ]
    }
   ],
   "source": [
    "food_type = input(\"Enter food type : \")\n",
    "festival = input(\"Is it a festival (yes / no): \")\n",
    "quantity = int(input(\"Enter quantity: \"))\n",
    "\n",
    "if festival == \"yes\":\n",
    "    if food_type == \"veg\":\n",
    "        bill = quantity *0.9 *150\n",
    "    elif food_type == \"non-veg\":\n",
    "        bill = quantity* 0.9 *200\n",
    "    else:\n",
    "        bill = quantity* 0.9*300\n",
    "else:\n",
    "    if food_type == \"veg\":\n",
    "        bill = quantity *150\n",
    "    elif food_type == \"non-veg\":\n",
    "        bill = quantity*200\n",
    "    else:\n",
    "        bill = quantity*300\n",
    "\n",
    "tax = bill * 0.05  \n",
    "total = bill+tax\n",
    "print(total)\n",
    "if(total>1000):\n",
    "    print(\"Congratulations sir you got free dessert\")\n",
    "     \n",
    "    \n",
    "\n",
    "\n",
    "\n",
    "    \n",
    "    \n",
    "    \n"
   ]
  },
  {
   "cell_type": "code",
   "execution_count": null,
   "id": "5b8211eb",
   "metadata": {},
   "outputs": [],
   "source": [
    "Government – Ration Card Eligibility Checker\n",
    "Scenario:\n",
    "The government checks if a family is eligible for subsidized ration based on income, family size, and location.\n",
    " \n",
    "Requirements:\n",
    " \n",
    "Input: number of family members, annual income, rural or urban\n",
    " \n",
    "Conditions:\n",
    " \n",
    "Rural + income < 2.5 LPA + >3 members → Eligible\n",
    " \n",
    "Urban + income < 2 LPA + >4 members → Eligible\n",
    " \n",
    "Else → Not eligible"
   ]
  },
  {
   "cell_type": "code",
   "execution_count": 7,
   "id": "890605f6",
   "metadata": {},
   "outputs": [
    {
     "name": "stdout",
     "output_type": "stream",
     "text": [
      "Enter number of family members4\n",
      "Enter anual income200000\n",
      "Enter city type rural/urbanrural\n",
      "Eligible\n"
     ]
    }
   ],
   "source": [
    "family_members=int(input(\"Enter number of family members\"))\n",
    "annual_income=int(input(\"Enter anual income\"))\n",
    "city=input(\"Enter city type rural/urban\")\n",
    "if city==\"rural\" and annual_income<250000 and family_members>3 :\n",
    "    print(\"Eligible\")\n",
    "elif city==\"urban\" and annual_income<200000 and family_members>3>4 :\n",
    "    \n",
    "    \n",
    "    print(\"Eligible\")\n",
    "else :\n",
    "    print(\"Not eligible\")"
   ]
  },
  {
   "cell_type": "code",
   "execution_count": null,
   "id": "f4a6a83c",
   "metadata": {},
   "outputs": [],
   "source": []
  }
 ],
 "metadata": {
  "kernelspec": {
   "display_name": "Python 3 (ipykernel)",
   "language": "python",
   "name": "python3"
  },
  "language_info": {
   "codemirror_mode": {
    "name": "ipython",
    "version": 3
   },
   "file_extension": ".py",
   "mimetype": "text/x-python",
   "name": "python",
   "nbconvert_exporter": "python",
   "pygments_lexer": "ipython3",
   "version": "3.10.9"
  }
 },
 "nbformat": 4,
 "nbformat_minor": 5
}
